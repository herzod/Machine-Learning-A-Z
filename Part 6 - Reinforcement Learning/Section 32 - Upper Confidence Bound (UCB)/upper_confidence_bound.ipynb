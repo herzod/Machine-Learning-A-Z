{
 "nbformat": 4,
 "nbformat_minor": 0,
 "metadata": {
  "colab": {
   "name": "upper_confidence_bound.ipynb",
   "provenance": [],
   "collapsed_sections": [],
   "authorship_tag": "ABX9TyM070CpUDOaHkkIWHwMqelP"
  },
  "kernelspec": {
   "name": "python3",
   "display_name": "Python 3 (ipykernel)",
   "language": "python"
  }
 },
 "cells": [
  {
   "cell_type": "markdown",
   "metadata": {
    "id": "QJdrJJQUv3-k",
    "colab_type": "text"
   },
   "source": [
    "# Upper Confidence Bound (UCB)"
   ]
  },
  {
   "cell_type": "markdown",
   "metadata": {
    "id": "2XCjepjJwEv-",
    "colab_type": "text"
   },
   "source": [
    "## Importing the libraries"
   ]
  },
  {
   "cell_type": "code",
   "metadata": {
    "id": "l_mBkG3YwNTt",
    "colab_type": "code",
    "colab": {},
    "ExecuteTime": {
     "end_time": "2025-10-15T12:50:51.356125Z",
     "start_time": "2025-10-15T12:50:47.169863Z"
    }
   },
   "source": [
    "import numpy as np\n",
    "import matplotlib.pyplot as plt\n",
    "import pandas as pd"
   ],
   "outputs": [],
   "execution_count": 1
  },
  {
   "cell_type": "markdown",
   "metadata": {
    "id": "npqlXjaNwYTv",
    "colab_type": "text"
   },
   "source": [
    "## Importing the dataset"
   ]
  },
  {
   "metadata": {},
   "cell_type": "markdown",
   "source": "Business Case Study: Find the best add based on customer engagement. Meaning if a customer clicks on the add -> 1 if a customer doesn't -> 0"
  },
  {
   "cell_type": "code",
   "metadata": {
    "id": "HMJfUVLVwcFc",
    "colab_type": "code",
    "colab": {},
    "ExecuteTime": {
     "end_time": "2025-10-15T13:04:41.175471Z",
     "start_time": "2025-10-15T13:04:41.143333Z"
    }
   },
   "source": [
    "dataset = pd.read_csv('Ads_CTR_Optimisation.csv')"
   ],
   "outputs": [],
   "execution_count": 3
  },
  {
   "cell_type": "markdown",
   "metadata": {
    "id": "PaSbots_wfoB",
    "colab_type": "text"
   },
   "source": [
    "## Implementing UCB"
   ]
  },
  {
   "cell_type": "code",
   "metadata": {
    "id": "V1K7jgDFwkRd",
    "colab_type": "code",
    "colab": {},
    "ExecuteTime": {
     "end_time": "2025-10-15T13:05:29.578448Z",
     "start_time": "2025-10-15T13:05:29.404270Z"
    }
   },
   "source": [
    "import math\n",
    "N = 10000 # total number of iterations/users\n",
    "d = 10 # total number of ads\n",
    "ads_selected = []\n",
    "numbers_of_selections = [0] * d\n",
    "sums_of_rewards = [0] * d\n",
    "total_reward = 0\n",
    "for n  in range(0, N):\n",
    "    ad = 0\n",
    "    max_upper_bound = 0\n",
    "    for i in range(0, d):\n",
    "        if (numbers_of_selections[i] > 0): # this means the add was selected atleast once\n",
    "            average_reward = sums_of_rewards[i] / numbers_of_selections[i]\n",
    "            delta_i = math.sqrt(3/2 * math.log(n + 1)/numbers_of_selections[i])\n",
    "            upper_bound = average_reward + delta_i\n",
    "        else: # this means the add was never selected before\n",
    "            upper_bound = 1e400 # 1*10^400 -> set a very high upper bound\n",
    "\n",
    "        if (upper_bound > max_upper_bound):\n",
    "                max_upper_bound = upper_bound\n",
    "                ad = i\n",
    "        ads_selected.append(ad)\n",
    "        numbers_of_selections[ad] += 1\n",
    "        reward = dataset.values[n, ad] # row is the user n and column is the ad (0 or 1)\n",
    "        sums_of_rewards[ad] += reward\n",
    "        total_reward += reward"
   ],
   "outputs": [],
   "execution_count": 6
  },
  {
   "cell_type": "markdown",
   "metadata": {
    "id": "AXftWcjDwsYj",
    "colab_type": "text"
   },
   "source": [
    "## Visualising the results"
   ]
  },
  {
   "cell_type": "code",
   "metadata": {
    "id": "eVyD_EDXwtkK",
    "colab_type": "code",
    "outputId": "45843b84-4a0f-453f-be68-07cd203a72ae",
    "executionInfo": {
     "status": "ok",
     "timestamp": 1589542170224,
     "user_tz": -240,
     "elapsed": 1854,
     "user": {
      "displayName": "Hadelin de Ponteves",
      "photoUrl": "https://lh3.googleusercontent.com/a-/AOh14GhEuXdT7eQweUmRPW8_laJuPggSK6hfvpl5a6WBaA=s64",
      "userId": "15047218817161520419"
     }
    },
    "colab": {
     "base_uri": "https://localhost:8080/",
     "height": 295
    },
    "ExecuteTime": {
     "end_time": "2025-10-15T13:06:21.856486Z",
     "start_time": "2025-10-15T13:06:21.686161Z"
    }
   },
   "source": [
    "plt.hist(ads_selected)\n",
    "plt.title('Histogram of ads selections')\n",
    "plt.xlabel('Ads')\n",
    "plt.ylabel('Number of times each ad was selected')\n",
    "plt.show()"
   ],
   "outputs": [
    {
     "data": {
      "text/plain": [
       "<Figure size 640x480 with 1 Axes>"
      ],
      "image/png": "[encoded data removed]"
     },
     "metadata": {},
     "output_type": "display_data",
     "jetTransient": {
      "display_id": null
     }
    }
   ],
   "execution_count": 8
  }
 ]
}
