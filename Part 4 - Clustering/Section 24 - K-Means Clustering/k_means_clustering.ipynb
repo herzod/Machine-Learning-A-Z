{
 "nbformat": 4,
 "nbformat_minor": 0,
 "metadata": {
  "colab": {
   "name": "k_means_clustering.ipynb",
   "provenance": [],
   "toc_visible": true,
   "authorship_tag": "ABX9TyN979dFKn9B6Ro9v0hJ4uqU"
  },
  "kernelspec": {
   "name": "python3",
   "display_name": "Python 3"
  }
 },
 "cells": [
  {
   "cell_type": "markdown",
   "metadata": {
    "id": "i_paGd_yLbgH",
    "colab_type": "text"
   },
   "source": [
    "# K-Means Clustering"
   ]
  },
  {
   "cell_type": "markdown",
   "metadata": {
    "id": "nAuqPwTnLipr",
    "colab_type": "text"
   },
   "source": [
    "## Importing the libraries"
   ]
  },
  {
   "metadata": {},
   "cell_type": "code",
   "outputs": [],
   "execution_count": null,
   "source": [
    "import numpy as np\n",
    "import matplotlib.pyplot as plt\n",
    "import pandas as pd"
   ]
  },
  {
   "cell_type": "markdown",
   "metadata": {
    "id": "5LciKOr8Lo5O",
    "colab_type": "text"
   },
   "source": [
    "## Importing the dataset"
   ]
  },
  {
   "metadata": {},
   "cell_type": "markdown",
   "source": "Dataset: A mall collected data from this customers. Age, Gender, Annual Income and spending score ( high -> more spending)"
  },
  {
   "metadata": {},
   "cell_type": "code",
   "outputs": [],
   "execution_count": null,
   "source": [
    "dataset = pd.read_csv(\"Mall_Customers.csv\")\n",
    "X = dataset.iloc[:, [3, 4]].values # all rows, and only columns 3 and 4"
   ]
  },
  {
   "metadata": {},
   "cell_type": "markdown",
   "source": "Note: Age, gender, annual income, and spending score are all relevant. However, for testing purposes, I will use only two features to enable clearer visualization at the end."
  },
  {
   "cell_type": "markdown",
   "metadata": {
    "id": "nWC2EWp2Lx5G",
    "colab_type": "text"
   },
   "source": [
    "## Using the elbow method to find the optimal number of clusters"
   ]
  },
  {
   "metadata": {},
   "cell_type": "code",
   "outputs": [],
   "execution_count": null,
   "source": [
    "from sklearn.cluster import KMeans\n",
    "wcss = []\n",
    "for i in range(1, 11):\n",
    "    kmeans = KMeans(n_clusters = i, init = 'k-means++', random_state = 42) # random state is for reproducibility (fixed seed)\n",
    "    kmeans.fit(X)\n",
    "    wcss.append(kmeans.inertia_)"
   ]
  },
  {
   "metadata": {},
   "cell_type": "markdown",
   "source": [
    "After training the K-means algorithm, we compute the within-cluster sum of squares (WCSS) value. This metric represents the sum of the squared distances between each observation point and the centroid of its cluster.\n",
    "\n",
    "We maintain a list called wcss, initially empty, to store these values for each number of clusters. We append the WCSS value for the current cluster count to this list.\n",
    "\n",
    "The WCSS value can be obtained from the inertia_ attribute of the trained K-means object. This attribute provides exactly the sum of squared distances within clusters."
   ]
  },
  {
   "metadata": {
    "SqlCellData": {
     "variableName$1": "df_sql1"
    }
   },
   "cell_type": "code",
   "outputs": [],
   "execution_count": null,
   "source": "%%sql\n"
  },
  {
   "metadata": {},
   "cell_type": "markdown",
   "source": "WCSS: is the sum of squared distances between each point and its cluster centroid."
  },
  {
   "cell_type": "markdown",
   "metadata": {
    "id": "VgT0mANLL4Nz",
    "colab_type": "text"
   },
   "source": [
    "## Training the K-Means model on the dataset"
   ]
  },
  {
   "cell_type": "markdown",
   "metadata": {
    "id": "e7YrS1JAMFnm",
    "colab_type": "text"
   },
   "source": [
    "## Visualising the clusters"
   ]
  }
 ]
}
