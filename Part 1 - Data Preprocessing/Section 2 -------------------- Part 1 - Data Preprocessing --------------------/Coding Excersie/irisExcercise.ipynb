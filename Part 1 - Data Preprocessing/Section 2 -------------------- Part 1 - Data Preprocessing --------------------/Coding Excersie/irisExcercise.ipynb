{
 "nbformat": 4,
 "nbformat_minor": 0,
 "metadata": {
  "colab": {
   "provenance": [],
   "collapsed_sections": [],
   "authorship_tag": "ABX9TyOihYlX/ooG5h+qw0sLIjn8"
  },
  "kernelspec": {
   "name": "python3",
   "display_name": "Python 3"
  }
 },
 "cells": [
  {
   "cell_type": "markdown",
   "metadata": {
    "id": "37puETfgRzzg"
   },
   "source": [
    "# Data Preprocessing Tools"
   ]
  },
  {
   "metadata": {
    "ExecuteTime": {
     "end_time": "2025-07-31T09:32:37.345132Z",
     "start_time": "2025-07-31T09:32:30.380454Z"
    }
   },
   "cell_type": "code",
   "source": [
    "# Import necessary libraries\n",
    "import pandas as pd\n",
    "from sklearn.model_selection import train_test_split\n",
    "from sklearn.preprocessing import StandardScaler\n",
    "\n",
    "# Load the Iris dataset\n",
    "df = pd.read_csv(\"iris.csv\")\n",
    "\n",
    "# Separate features and target\n",
    "X = df.iloc[:, :-1].values\n",
    "y = df.iloc[:, -1].values\n",
    "\n",
    "\n",
    "# Split the dataset into an 80-20 training-test set\n",
    "X_train, X_test, y_train, y_test = train_test_split(X, y, test_size = 0.2, random_state = 42)\n",
    "\n",
    "# Apply feature scaling on the training and test sets\n",
    "scaler = StandardScaler()\n",
    "X_train = scaler.fit_transform(X_train) #combination of the fit and transform method\n",
    "X_test = scaler.transform(X_test) #its important to not fit the test set to avoid data leakage\n",
    "\n",
    "# Print the scaled training and test sets\n",
    "print(\"Scaled Training Set:\")\n",
    "print(X_train)\n",
    "print(\"\\nScaled Test Set:\")\n",
    "print(X_test)"
   ],
   "outputs": [
    {
     "name": "stdout",
     "output_type": "stream",
     "text": [
      "[[1.0 0.0 1.0 ... 'PC 17599' 71.2833 'C85']\n",
      " [1.0 0.0 0.0 ... '113803' 53.1 'C123']\n",
      " [0.0 1.0 0.0 ... '17463' 51.8625 'E46']\n",
      " ...\n",
      " [1.0 0.0 1.0 ... '11767' 83.1583 'C50']\n",
      " [1.0 0.0 0.0 ... '112053' 30.0 'B42']\n",
      " [0.0 1.0 1.0 ... '111369' 30.0 'C148']]\n",
      "[1 1 0 1 1 1 1 0 1 0 0 1 0 1 0 0 1 0 0 0 1 0 1 0 0 0 1 0 0 0 1 1 1 1 0 1 1\n",
      " 1 1 1 0 1 0 0 1 0 0 1 1 0 1 1 0 0 1 1 1 1 1 1 1 1 1 1 1 0 0 0 1 0 1 1 1 1\n",
      " 1 1 1 0 1 1 1 1 1 1 0 1 0 1 1 0 1 0 1 0 1 1 1 0 0 1 0 1 0 1 0 1 1 1 0 1 1\n",
      " 0 1 1 1 1 1 1 1 0 1 1 1 1 1 1 1 0 1 1 1 1 1 1 0 0 0 1 1 1 1 0 0 1 1 1 1 1\n",
      " 0 1 1 1 1 1 0 1 0 0 1 1 1 1 0 1 1 0 0 1 1 0 1 1 1 1 1 1 1 0 1 0 1 1 1]\n"
     ]
    }
   ],
   "execution_count": 1
  }
 ]
}
